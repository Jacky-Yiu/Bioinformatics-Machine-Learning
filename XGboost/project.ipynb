{
 "cells": [
  {
   "cell_type": "markdown",
   "metadata": {
    "id": "Eer9tYtrCEhJ"
   },
   "source": [
    "#Getting the data and packages"
   ]
  },
  {
   "cell_type": "markdown",
   "metadata": {
    "id": "VfvbrtoSET2k"
   },
   "source": [
    "## Installing the relevant packages\n",
    "You can install packages just like how normally you install packages on device,\n",
    "Make sure you include `!` before the `pip install` command"
   ]
  },
  {
   "cell_type": "code",
   "execution_count": 1,
   "metadata": {
    "colab": {
     "base_uri": "https://localhost:8080/"
    },
    "id": "iaEv3YnRDtY8",
    "outputId": "4e1d5259-3595-427b-a3a8-7f065a8399d9"
   },
   "outputs": [
    {
     "name": "stdout",
     "output_type": "stream",
     "text": [
      "Looking in indexes: https://pypi.org/simple, https://us-python.pkg.dev/colab-wheels/public/simple/\n",
      "Requirement already satisfied: scikit-learn in /usr/local/lib/python3.8/dist-packages (1.2.0)\n",
      "Requirement already satisfied: scipy in /usr/local/lib/python3.8/dist-packages (1.9.3)\n",
      "Requirement already satisfied: numpy in /usr/local/lib/python3.8/dist-packages (1.23.5)\n",
      "Requirement already satisfied: pandas in /usr/local/lib/python3.8/dist-packages (1.5.2)\n",
      "Requirement already satisfied: xgboost in /usr/local/lib/python3.8/dist-packages (1.7.2)\n",
      "Requirement already satisfied: ost in /usr/local/lib/python3.8/dist-packages (0.1.dev13)\n",
      "Requirement already satisfied: scikit-optimize in /usr/local/lib/python3.8/dist-packages (0.9.0)\n",
      "Requirement already satisfied: imbalanced-learn in /usr/local/lib/python3.8/dist-packages (0.10.0)\n",
      "Requirement already satisfied: geopy in /usr/local/lib/python3.8/dist-packages (2.3.0)\n",
      "Requirement already satisfied: swifter in /usr/local/lib/python3.8/dist-packages (1.3.4)\n",
      "Requirement already satisfied: threadpoolctl>=2.0.0 in /usr/local/lib/python3.8/dist-packages (from scikit-learn) (3.1.0)\n",
      "Requirement already satisfied: joblib>=1.1.1 in /usr/local/lib/python3.8/dist-packages (from scikit-learn) (1.2.0)\n",
      "Requirement already satisfied: pytz>=2020.1 in /usr/local/lib/python3.8/dist-packages (from pandas) (2022.6)\n",
      "Requirement already satisfied: python-dateutil>=2.8.1 in /usr/local/lib/python3.8/dist-packages (from pandas) (2.8.2)\n",
      "Requirement already satisfied: six>=1.5 in /usr/local/lib/python3.8/dist-packages (from python-dateutil>=2.8.1->pandas) (1.15.0)\n",
      "Requirement already satisfied: requests in /usr/local/lib/python3.8/dist-packages (from ost) (2.23.0)\n",
      "Requirement already satisfied: pyaml>=16.9 in /usr/local/lib/python3.8/dist-packages (from scikit-optimize) (21.10.1)\n",
      "Requirement already satisfied: PyYAML in /usr/local/lib/python3.8/dist-packages (from pyaml>=16.9->scikit-optimize) (6.0)\n",
      "Requirement already satisfied: geographiclib<3,>=1.52 in /usr/local/lib/python3.8/dist-packages (from geopy) (1.52)\n",
      "Requirement already satisfied: ipywidgets>=7.0.0 in /usr/local/lib/python3.8/dist-packages (from swifter) (7.7.1)\n",
      "Requirement already satisfied: cloudpickle>=0.2.2 in /usr/local/lib/python3.8/dist-packages (from swifter) (1.5.0)\n",
      "Requirement already satisfied: tqdm>=4.33.0 in /usr/local/lib/python3.8/dist-packages (from swifter) (4.64.1)\n",
      "Requirement already satisfied: parso>0.4.0 in /usr/local/lib/python3.8/dist-packages (from swifter) (0.8.3)\n",
      "Requirement already satisfied: bleach>=3.1.1 in /usr/local/lib/python3.8/dist-packages (from swifter) (5.0.1)\n",
      "Requirement already satisfied: dask[dataframe]>=2.10.0 in /usr/local/lib/python3.8/dist-packages (from swifter) (2022.2.1)\n",
      "Requirement already satisfied: psutil>=5.6.6 in /usr/local/lib/python3.8/dist-packages (from swifter) (5.9.4)\n",
      "Requirement already satisfied: webencodings in /usr/local/lib/python3.8/dist-packages (from bleach>=3.1.1->swifter) (0.5.1)\n",
      "Requirement already satisfied: partd>=0.3.10 in /usr/local/lib/python3.8/dist-packages (from dask[dataframe]>=2.10.0->swifter) (1.3.0)\n",
      "Requirement already satisfied: packaging>=20.0 in /usr/local/lib/python3.8/dist-packages (from dask[dataframe]>=2.10.0->swifter) (21.3)\n",
      "Requirement already satisfied: fsspec>=0.6.0 in /usr/local/lib/python3.8/dist-packages (from dask[dataframe]>=2.10.0->swifter) (2022.11.0)\n",
      "Requirement already satisfied: toolz>=0.8.2 in /usr/local/lib/python3.8/dist-packages (from dask[dataframe]>=2.10.0->swifter) (0.12.0)\n",
      "Requirement already satisfied: jupyterlab-widgets>=1.0.0 in /usr/local/lib/python3.8/dist-packages (from ipywidgets>=7.0.0->swifter) (3.0.3)\n",
      "Requirement already satisfied: traitlets>=4.3.1 in /usr/local/lib/python3.8/dist-packages (from ipywidgets>=7.0.0->swifter) (5.6.0)\n",
      "Requirement already satisfied: ipykernel>=4.5.1 in /usr/local/lib/python3.8/dist-packages (from ipywidgets>=7.0.0->swifter) (5.3.4)\n",
      "Requirement already satisfied: ipython-genutils~=0.2.0 in /usr/local/lib/python3.8/dist-packages (from ipywidgets>=7.0.0->swifter) (0.2.0)\n",
      "Requirement already satisfied: widgetsnbextension~=3.6.0 in /usr/local/lib/python3.8/dist-packages (from ipywidgets>=7.0.0->swifter) (3.6.1)\n",
      "Requirement already satisfied: ipython>=4.0.0 in /usr/local/lib/python3.8/dist-packages (from ipywidgets>=7.0.0->swifter) (7.9.0)\n",
      "Requirement already satisfied: tornado>=4.2 in /usr/local/lib/python3.8/dist-packages (from ipykernel>=4.5.1->ipywidgets>=7.0.0->swifter) (6.0.4)\n",
      "Requirement already satisfied: jupyter-client in /usr/local/lib/python3.8/dist-packages (from ipykernel>=4.5.1->ipywidgets>=7.0.0->swifter) (6.1.12)\n",
      "Requirement already satisfied: pickleshare in /usr/local/lib/python3.8/dist-packages (from ipython>=4.0.0->ipywidgets>=7.0.0->swifter) (0.7.5)\n",
      "Requirement already satisfied: prompt-toolkit<2.1.0,>=2.0.0 in /usr/local/lib/python3.8/dist-packages (from ipython>=4.0.0->ipywidgets>=7.0.0->swifter) (2.0.10)\n",
      "Requirement already satisfied: pexpect in /usr/local/lib/python3.8/dist-packages (from ipython>=4.0.0->ipywidgets>=7.0.0->swifter) (4.8.0)\n",
      "Requirement already satisfied: setuptools>=18.5 in /usr/local/lib/python3.8/dist-packages (from ipython>=4.0.0->ipywidgets>=7.0.0->swifter) (57.4.0)\n",
      "Requirement already satisfied: decorator in /usr/local/lib/python3.8/dist-packages (from ipython>=4.0.0->ipywidgets>=7.0.0->swifter) (4.4.2)\n",
      "Requirement already satisfied: jedi>=0.10 in /usr/local/lib/python3.8/dist-packages (from ipython>=4.0.0->ipywidgets>=7.0.0->swifter) (0.18.2)\n",
      "Requirement already satisfied: pygments in /usr/local/lib/python3.8/dist-packages (from ipython>=4.0.0->ipywidgets>=7.0.0->swifter) (2.6.1)\n",
      "Requirement already satisfied: backcall in /usr/local/lib/python3.8/dist-packages (from ipython>=4.0.0->ipywidgets>=7.0.0->swifter) (0.2.0)\n",
      "Requirement already satisfied: pyparsing!=3.0.5,>=2.0.2 in /usr/local/lib/python3.8/dist-packages (from packaging>=20.0->dask[dataframe]>=2.10.0->swifter) (3.0.9)\n",
      "Requirement already satisfied: locket in /usr/local/lib/python3.8/dist-packages (from partd>=0.3.10->dask[dataframe]>=2.10.0->swifter) (1.0.0)\n",
      "Requirement already satisfied: wcwidth in /usr/local/lib/python3.8/dist-packages (from prompt-toolkit<2.1.0,>=2.0.0->ipython>=4.0.0->ipywidgets>=7.0.0->swifter) (0.2.5)\n",
      "Requirement already satisfied: notebook>=4.4.1 in /usr/local/lib/python3.8/dist-packages (from widgetsnbextension~=3.6.0->ipywidgets>=7.0.0->swifter) (5.7.16)\n",
      "Requirement already satisfied: jinja2<=3.0.0 in /usr/local/lib/python3.8/dist-packages (from notebook>=4.4.1->widgetsnbextension~=3.6.0->ipywidgets>=7.0.0->swifter) (2.11.3)\n",
      "Requirement already satisfied: prometheus-client in /usr/local/lib/python3.8/dist-packages (from notebook>=4.4.1->widgetsnbextension~=3.6.0->ipywidgets>=7.0.0->swifter) (0.15.0)\n",
      "Requirement already satisfied: Send2Trash in /usr/local/lib/python3.8/dist-packages (from notebook>=4.4.1->widgetsnbextension~=3.6.0->ipywidgets>=7.0.0->swifter) (1.8.0)\n",
      "Requirement already satisfied: jupyter-core>=4.4.0 in /usr/local/lib/python3.8/dist-packages (from notebook>=4.4.1->widgetsnbextension~=3.6.0->ipywidgets>=7.0.0->swifter) (5.1.0)\n",
      "Requirement already satisfied: terminado>=0.8.1 in /usr/local/lib/python3.8/dist-packages (from notebook>=4.4.1->widgetsnbextension~=3.6.0->ipywidgets>=7.0.0->swifter) (0.13.3)\n",
      "Requirement already satisfied: nbformat in /usr/local/lib/python3.8/dist-packages (from notebook>=4.4.1->widgetsnbextension~=3.6.0->ipywidgets>=7.0.0->swifter) (5.7.0)\n",
      "Requirement already satisfied: pyzmq>=17 in /usr/local/lib/python3.8/dist-packages (from notebook>=4.4.1->widgetsnbextension~=3.6.0->ipywidgets>=7.0.0->swifter) (23.2.1)\n",
      "Requirement already satisfied: nbconvert<6.0 in /usr/local/lib/python3.8/dist-packages (from notebook>=4.4.1->widgetsnbextension~=3.6.0->ipywidgets>=7.0.0->swifter) (5.6.1)\n",
      "Requirement already satisfied: MarkupSafe>=0.23 in /usr/local/lib/python3.8/dist-packages (from jinja2<=3.0.0->notebook>=4.4.1->widgetsnbextension~=3.6.0->ipywidgets>=7.0.0->swifter) (2.0.1)\n",
      "Requirement already satisfied: platformdirs>=2.5 in /usr/local/lib/python3.8/dist-packages (from jupyter-core>=4.4.0->notebook>=4.4.1->widgetsnbextension~=3.6.0->ipywidgets>=7.0.0->swifter) (2.5.4)\n",
      "Requirement already satisfied: pandocfilters>=1.4.1 in /usr/local/lib/python3.8/dist-packages (from nbconvert<6.0->notebook>=4.4.1->widgetsnbextension~=3.6.0->ipywidgets>=7.0.0->swifter) (1.5.0)\n",
      "Requirement already satisfied: mistune<2,>=0.8.1 in /usr/local/lib/python3.8/dist-packages (from nbconvert<6.0->notebook>=4.4.1->widgetsnbextension~=3.6.0->ipywidgets>=7.0.0->swifter) (0.8.4)\n",
      "Requirement already satisfied: entrypoints>=0.2.2 in /usr/local/lib/python3.8/dist-packages (from nbconvert<6.0->notebook>=4.4.1->widgetsnbextension~=3.6.0->ipywidgets>=7.0.0->swifter) (0.4)\n",
      "Requirement already satisfied: defusedxml in /usr/local/lib/python3.8/dist-packages (from nbconvert<6.0->notebook>=4.4.1->widgetsnbextension~=3.6.0->ipywidgets>=7.0.0->swifter) (0.7.1)\n",
      "Requirement already satisfied: testpath in /usr/local/lib/python3.8/dist-packages (from nbconvert<6.0->notebook>=4.4.1->widgetsnbextension~=3.6.0->ipywidgets>=7.0.0->swifter) (0.6.0)\n",
      "Requirement already satisfied: fastjsonschema in /usr/local/lib/python3.8/dist-packages (from nbformat->notebook>=4.4.1->widgetsnbextension~=3.6.0->ipywidgets>=7.0.0->swifter) (2.16.2)\n",
      "Requirement already satisfied: jsonschema>=2.6 in /usr/local/lib/python3.8/dist-packages (from nbformat->notebook>=4.4.1->widgetsnbextension~=3.6.0->ipywidgets>=7.0.0->swifter) (4.3.3)\n",
      "Requirement already satisfied: importlib-resources>=1.4.0 in /usr/local/lib/python3.8/dist-packages (from jsonschema>=2.6->nbformat->notebook>=4.4.1->widgetsnbextension~=3.6.0->ipywidgets>=7.0.0->swifter) (5.10.0)\n",
      "Requirement already satisfied: pyrsistent!=0.17.0,!=0.17.1,!=0.17.2,>=0.14.0 in /usr/local/lib/python3.8/dist-packages (from jsonschema>=2.6->nbformat->notebook>=4.4.1->widgetsnbextension~=3.6.0->ipywidgets>=7.0.0->swifter) (0.19.2)\n",
      "Requirement already satisfied: attrs>=17.4.0 in /usr/local/lib/python3.8/dist-packages (from jsonschema>=2.6->nbformat->notebook>=4.4.1->widgetsnbextension~=3.6.0->ipywidgets>=7.0.0->swifter) (22.1.0)\n",
      "Requirement already satisfied: zipp>=3.1.0 in /usr/local/lib/python3.8/dist-packages (from importlib-resources>=1.4.0->jsonschema>=2.6->nbformat->notebook>=4.4.1->widgetsnbextension~=3.6.0->ipywidgets>=7.0.0->swifter) (3.11.0)\n",
      "Requirement already satisfied: ptyprocess in /usr/local/lib/python3.8/dist-packages (from terminado>=0.8.1->notebook>=4.4.1->widgetsnbextension~=3.6.0->ipywidgets>=7.0.0->swifter) (0.7.0)\n",
      "Requirement already satisfied: certifi>=2017.4.17 in /usr/local/lib/python3.8/dist-packages (from requests->ost) (2022.9.24)\n",
      "Requirement already satisfied: urllib3!=1.25.0,!=1.25.1,<1.26,>=1.21.1 in /usr/local/lib/python3.8/dist-packages (from requests->ost) (1.24.3)\n",
      "Requirement already satisfied: chardet<4,>=3.0.2 in /usr/local/lib/python3.8/dist-packages (from requests->ost) (3.0.4)\n",
      "Requirement already satisfied: idna<3,>=2.5 in /usr/local/lib/python3.8/dist-packages (from requests->ost) (2.10)\n"
     ]
    }
   ],
   "source": [
    "!pip install -U scikit-learn scipy numpy pandas xgboost ost scikit-optimize imbalanced-learn geopy swifter"
   ]
  },
  {
   "cell_type": "markdown",
   "metadata": {
    "id": "HLq03VLMp5R5"
   },
   "source": []
  },
  {
   "cell_type": "code",
   "execution_count": 2,
   "metadata": {
    "id": "yG2YkrIqE3ca"
   },
   "outputs": [],
   "source": [
    "import pandas as pd\n",
    "import numpy as np\n",
    "from scipy.stats import uniform, randint\n",
    "from sklearn.metrics import auc, accuracy_score, confusion_matrix, mean_squared_error, f1_score, recall_score\n",
    "from sklearn.experimental import enable_halving_search_cv \n",
    "from sklearn.model_selection import cross_val_score, GridSearchCV, KFold, RandomizedSearchCV, train_test_split, cross_val_predict, HalvingGridSearchCV, cross_validate\n",
    "from sklearn.ensemble import RandomForestClassifier\n",
    "from xgboost import XGBClassifier\n",
    "from sklearn import preprocessing\n",
    "from sklearn.metrics import classification_report\n",
    "from skopt import BayesSearchCV\n",
    "from sklearn.model_selection import StratifiedKFold\n",
    "from geopy.geocoders import Nominatim\n",
    "import swifter\n",
    "from imblearn.pipeline import Pipeline\n",
    "from imblearn.combine import SMOTETomek\n",
    "import csv\n",
    "from matplotlib import pyplot"
   ]
  },
  {
   "cell_type": "markdown",
   "metadata": {
    "id": "4rrEWAQnauhm"
   },
   "source": [
    "# 1.1 Feature Selection"
   ]
  },
  {
   "cell_type": "code",
   "execution_count": 3,
   "metadata": {
    "colab": {
     "base_uri": "https://localhost:8080/",
     "height": 305
    },
    "id": "gM0-RhunukAp",
    "outputId": "8596710a-f3e7-4739-ec2f-0854023d922c"
   },
   "outputs": [
    {
     "data": {
      "text/html": [
       "\n",
       "  <div id=\"df-00590ba7-9dab-4d94-a64a-d1576bfcadc9\">\n",
       "    <div class=\"colab-df-container\">\n",
       "      <div>\n",
       "<style scoped>\n",
       "    .dataframe tbody tr th:only-of-type {\n",
       "        vertical-align: middle;\n",
       "    }\n",
       "\n",
       "    .dataframe tbody tr th {\n",
       "        vertical-align: top;\n",
       "    }\n",
       "\n",
       "    .dataframe thead th {\n",
       "        text-align: right;\n",
       "    }\n",
       "</style>\n",
       "<table border=\"1\" class=\"dataframe\">\n",
       "  <thead>\n",
       "    <tr style=\"text-align: right;\">\n",
       "      <th></th>\n",
       "      <th>age</th>\n",
       "      <th>sex</th>\n",
       "      <th>province</th>\n",
       "      <th>country</th>\n",
       "      <th>latitude</th>\n",
       "      <th>longitude</th>\n",
       "      <th>date_confirmation</th>\n",
       "      <th>chronic_disease_binary</th>\n",
       "      <th>Confirmed</th>\n",
       "      <th>Deaths</th>\n",
       "      <th>Recovered</th>\n",
       "      <th>Active</th>\n",
       "      <th>Incident_Rate</th>\n",
       "      <th>Case_Fatality_Ratio</th>\n",
       "      <th>outcome_group</th>\n",
       "    </tr>\n",
       "  </thead>\n",
       "  <tbody>\n",
       "    <tr>\n",
       "      <th>0</th>\n",
       "      <td>18</td>\n",
       "      <td>female</td>\n",
       "      <td>Bihar</td>\n",
       "      <td>India</td>\n",
       "      <td>25.49096</td>\n",
       "      <td>85.93903</td>\n",
       "      <td>2020-05-18</td>\n",
       "      <td>False</td>\n",
       "      <td>265527</td>\n",
       "      <td>1576</td>\n",
       "      <td>262371</td>\n",
       "      <td>1580</td>\n",
       "      <td>212.762145</td>\n",
       "      <td>0.593537</td>\n",
       "      <td>hospitalized</td>\n",
       "    </tr>\n",
       "    <tr>\n",
       "      <th>1</th>\n",
       "      <td>27</td>\n",
       "      <td>female</td>\n",
       "      <td>NaN</td>\n",
       "      <td>Philippines</td>\n",
       "      <td>7.07000</td>\n",
       "      <td>125.60000</td>\n",
       "      <td>2020-04-15</td>\n",
       "      <td>False</td>\n",
       "      <td>747288</td>\n",
       "      <td>13297</td>\n",
       "      <td>603746</td>\n",
       "      <td>130245</td>\n",
       "      <td>681.949809</td>\n",
       "      <td>1.779368</td>\n",
       "      <td>nonhospitalized</td>\n",
       "    </tr>\n",
       "    <tr>\n",
       "      <th>2</th>\n",
       "      <td>46</td>\n",
       "      <td>male</td>\n",
       "      <td>Tamil Nadu</td>\n",
       "      <td>India</td>\n",
       "      <td>13.08362</td>\n",
       "      <td>80.28252</td>\n",
       "      <td>2020-05-02</td>\n",
       "      <td>False</td>\n",
       "      <td>886673</td>\n",
       "      <td>12719</td>\n",
       "      <td>858075</td>\n",
       "      <td>15879</td>\n",
       "      <td>1139.078325</td>\n",
       "      <td>1.434463</td>\n",
       "      <td>hospitalized</td>\n",
       "    </tr>\n",
       "    <tr>\n",
       "      <th>3</th>\n",
       "      <td>21</td>\n",
       "      <td>female</td>\n",
       "      <td>Tamil Nadu</td>\n",
       "      <td>India</td>\n",
       "      <td>13.08362</td>\n",
       "      <td>80.28252</td>\n",
       "      <td>2020-05-24</td>\n",
       "      <td>False</td>\n",
       "      <td>886673</td>\n",
       "      <td>12719</td>\n",
       "      <td>858075</td>\n",
       "      <td>15879</td>\n",
       "      <td>1139.078325</td>\n",
       "      <td>1.434463</td>\n",
       "      <td>hospitalized</td>\n",
       "    </tr>\n",
       "    <tr>\n",
       "      <th>4</th>\n",
       "      <td>27</td>\n",
       "      <td>male</td>\n",
       "      <td>Bihar</td>\n",
       "      <td>India</td>\n",
       "      <td>26.28361</td>\n",
       "      <td>87.20347</td>\n",
       "      <td>2020-05-27</td>\n",
       "      <td>False</td>\n",
       "      <td>265527</td>\n",
       "      <td>1576</td>\n",
       "      <td>262371</td>\n",
       "      <td>1580</td>\n",
       "      <td>212.762145</td>\n",
       "      <td>0.593537</td>\n",
       "      <td>hospitalized</td>\n",
       "    </tr>\n",
       "  </tbody>\n",
       "</table>\n",
       "</div>\n",
       "      <button class=\"colab-df-convert\" onclick=\"convertToInteractive('df-00590ba7-9dab-4d94-a64a-d1576bfcadc9')\"\n",
       "              title=\"Convert this dataframe to an interactive table.\"\n",
       "              style=\"display:none;\">\n",
       "        \n",
       "  <svg xmlns=\"http://www.w3.org/2000/svg\" height=\"24px\"viewBox=\"0 0 24 24\"\n",
       "       width=\"24px\">\n",
       "    <path d=\"M0 0h24v24H0V0z\" fill=\"none\"/>\n",
       "    <path d=\"M18.56 5.44l.94 2.06.94-2.06 2.06-.94-2.06-.94-.94-2.06-.94 2.06-2.06.94zm-11 1L8.5 8.5l.94-2.06 2.06-.94-2.06-.94L8.5 2.5l-.94 2.06-2.06.94zm10 10l.94 2.06.94-2.06 2.06-.94-2.06-.94-.94-2.06-.94 2.06-2.06.94z\"/><path d=\"M17.41 7.96l-1.37-1.37c-.4-.4-.92-.59-1.43-.59-.52 0-1.04.2-1.43.59L10.3 9.45l-7.72 7.72c-.78.78-.78 2.05 0 2.83L4 21.41c.39.39.9.59 1.41.59.51 0 1.02-.2 1.41-.59l7.78-7.78 2.81-2.81c.8-.78.8-2.07 0-2.86zM5.41 20L4 18.59l7.72-7.72 1.47 1.35L5.41 20z\"/>\n",
       "  </svg>\n",
       "      </button>\n",
       "      \n",
       "  <style>\n",
       "    .colab-df-container {\n",
       "      display:flex;\n",
       "      flex-wrap:wrap;\n",
       "      gap: 12px;\n",
       "    }\n",
       "\n",
       "    .colab-df-convert {\n",
       "      background-color: #E8F0FE;\n",
       "      border: none;\n",
       "      border-radius: 50%;\n",
       "      cursor: pointer;\n",
       "      display: none;\n",
       "      fill: #1967D2;\n",
       "      height: 32px;\n",
       "      padding: 0 0 0 0;\n",
       "      width: 32px;\n",
       "    }\n",
       "\n",
       "    .colab-df-convert:hover {\n",
       "      background-color: #E2EBFA;\n",
       "      box-shadow: 0px 1px 2px rgba(60, 64, 67, 0.3), 0px 1px 3px 1px rgba(60, 64, 67, 0.15);\n",
       "      fill: #174EA6;\n",
       "    }\n",
       "\n",
       "    [theme=dark] .colab-df-convert {\n",
       "      background-color: #3B4455;\n",
       "      fill: #D2E3FC;\n",
       "    }\n",
       "\n",
       "    [theme=dark] .colab-df-convert:hover {\n",
       "      background-color: #434B5C;\n",
       "      box-shadow: 0px 1px 3px 1px rgba(0, 0, 0, 0.15);\n",
       "      filter: drop-shadow(0px 1px 2px rgba(0, 0, 0, 0.3));\n",
       "      fill: #FFFFFF;\n",
       "    }\n",
       "  </style>\n",
       "\n",
       "      <script>\n",
       "        const buttonEl =\n",
       "          document.querySelector('#df-00590ba7-9dab-4d94-a64a-d1576bfcadc9 button.colab-df-convert');\n",
       "        buttonEl.style.display =\n",
       "          google.colab.kernel.accessAllowed ? 'block' : 'none';\n",
       "\n",
       "        async function convertToInteractive(key) {\n",
       "          const element = document.querySelector('#df-00590ba7-9dab-4d94-a64a-d1576bfcadc9');\n",
       "          const dataTable =\n",
       "            await google.colab.kernel.invokeFunction('convertToInteractive',\n",
       "                                                     [key], {});\n",
       "          if (!dataTable) return;\n",
       "\n",
       "          const docLinkHtml = 'Like what you see? Visit the ' +\n",
       "            '<a target=\"_blank\" href=https://colab.research.google.com/notebooks/data_table.ipynb>data table notebook</a>'\n",
       "            + ' to learn more about interactive tables.';\n",
       "          element.innerHTML = '';\n",
       "          dataTable['output_type'] = 'display_data';\n",
       "          await google.colab.output.renderOutput(dataTable, element);\n",
       "          const docLink = document.createElement('div');\n",
       "          docLink.innerHTML = docLinkHtml;\n",
       "          element.appendChild(docLink);\n",
       "        }\n",
       "      </script>\n",
       "    </div>\n",
       "  </div>\n",
       "  "
      ],
      "text/plain": [
       "   age     sex    province      country  latitude  longitude  \\\n",
       "0   18  female       Bihar        India  25.49096   85.93903   \n",
       "1   27  female         NaN  Philippines   7.07000  125.60000   \n",
       "2   46    male  Tamil Nadu        India  13.08362   80.28252   \n",
       "3   21  female  Tamil Nadu        India  13.08362   80.28252   \n",
       "4   27    male       Bihar        India  26.28361   87.20347   \n",
       "\n",
       "  date_confirmation  chronic_disease_binary  Confirmed  Deaths  Recovered  \\\n",
       "0        2020-05-18                   False     265527    1576     262371   \n",
       "1        2020-04-15                   False     747288   13297     603746   \n",
       "2        2020-05-02                   False     886673   12719     858075   \n",
       "3        2020-05-24                   False     886673   12719     858075   \n",
       "4        2020-05-27                   False     265527    1576     262371   \n",
       "\n",
       "   Active  Incident_Rate  Case_Fatality_Ratio    outcome_group  \n",
       "0    1580     212.762145             0.593537     hospitalized  \n",
       "1  130245     681.949809             1.779368  nonhospitalized  \n",
       "2   15879    1139.078325             1.434463     hospitalized  \n",
       "3   15879    1139.078325             1.434463     hospitalized  \n",
       "4    1580     212.762145             0.593537     hospitalized  "
      ]
     },
     "execution_count": 3,
     "metadata": {},
     "output_type": "execute_result"
    }
   ],
   "source": [
    "#read data\n",
    "train = pd.read_excel(\"./cases_2021_train_processed_2.xlsx\")\n",
    "train.head()"
   ]
  },
  {
   "cell_type": "code",
   "execution_count": 4,
   "metadata": {
    "colab": {
     "base_uri": "https://localhost:8080/"
    },
    "id": "lUw3IlVhqtD5",
    "outputId": "7e501d6b-2293-403d-a3ac-cbf06218a82f"
   },
   "outputs": [
    {
     "data": {
      "text/plain": [
       "age                         int64\n",
       "sex                        object\n",
       "province                   object\n",
       "country                    object\n",
       "date_confirmation           int64\n",
       "chronic_disease_binary       bool\n",
       "Incident_Rate             float64\n",
       "Case_Fatality_Ratio       float64\n",
       "outcome_group              object\n",
       "death_ratio               float64\n",
       "recovered_ratio           float64\n",
       "active_ratio              float64\n",
       "dtype: object"
      ]
     },
     "execution_count": 4,
     "metadata": {},
     "output_type": "execute_result"
    }
   ],
   "source": [
    "#convert datetime to numerical \n",
    "train[\"date_confirmation\"]=pd.to_numeric(pd.to_datetime(train[\"date_confirmation\"]))\n",
    "\n",
    "#make death_ratio, recovered_ratio, active_ratio\n",
    "train[\"death_ratio\"] = train[\"Deaths\"]/train[\"Confirmed\"]\n",
    "train[\"recovered_ratio\"] = train[\"Recovered\"]/train[\"Confirmed\"]\n",
    "train[\"active_ratio\"] = train[\"Active\"]/train[\"Confirmed\"]\n",
    "\n",
    "#drop umwanted features\n",
    "train= train.drop([\"latitude\",\"longitude\",\"Deaths\",\"Recovered\",\"Active\",\"Confirmed\"], axis=1)\n",
    "train.dtypes"
   ]
  },
  {
   "cell_type": "code",
   "execution_count": 5,
   "metadata": {
    "colab": {
     "base_uri": "https://localhost:8080/",
     "height": 49,
     "referenced_widgets": [
      "41a2c1923105434d8232c2526dae1537",
      "5f9c772cca3546498dbc5452c0e96d44",
      "4f30cea94f7f4edb9070d14b50f5a52f",
      "b6eb1b32445e4fdbb39858d1c1b44e4f",
      "288a44fc60064d5e8e852283e8364303",
      "c60964bf11394751b7a75a0532c8cc7b",
      "c38fed483146459883cd8779dcf3d6a1",
      "022ba98deefe43d88e6e37a7eef8adc2",
      "db6611ac3e2b4b6398a9cdbe1b802599",
      "6b711c732e504cf293339efd0e05e71f",
      "6aeda3c17771415496cfa2b0e7bd7da4"
     ]
    },
    "id": "IMjqmcxfDBAk",
    "outputId": "1cda31ae-2ecc-4945-88c4-02dc2ce5e833"
   },
   "outputs": [
    {
     "data": {
      "application/vnd.jupyter.widget-view+json": {
       "model_id": "41a2c1923105434d8232c2526dae1537",
       "version_major": 2,
       "version_minor": 0
      },
      "text/plain": [
       "Pandas Apply:   0%|          | 0/17212 [00:00<?, ?it/s]"
      ]
     },
     "metadata": {},
     "output_type": "display_data"
    }
   ],
   "source": [
    "#funtion to inpute province\n",
    "def inpute_province(row):\n",
    "  if row['province'] == 0:\n",
    "    return row['country']\n",
    "  else:\n",
    "    return row['province']\n",
    "\n",
    "#imput province with country\n",
    "train.province.fillna(0, inplace=True)\n",
    "train[\"province\"] = train.swifter.apply(inpute_province, axis=1)"
   ]
  },
  {
   "cell_type": "code",
   "execution_count": 6,
   "metadata": {
    "colab": {
     "base_uri": "https://localhost:8080/"
    },
    "id": "hYNtqcvmDA3G",
    "outputId": "68d388cd-2cb6-4afe-de8a-96b57a7fd408"
   },
   "outputs": [
    {
     "data": {
      "text/plain": [
       "(4304, 14)"
      ]
     },
     "execution_count": 6,
     "metadata": {},
     "output_type": "execute_result"
    }
   ],
   "source": [
    "# do the same thing with test data\n",
    "test = pd.read_excel(\"./cases_2021_test_processed_unlabelled_2.xlsx\")\n",
    "test.shape"
   ]
  },
  {
   "cell_type": "code",
   "execution_count": 7,
   "metadata": {
    "colab": {
     "base_uri": "https://localhost:8080/"
    },
    "id": "PZCoefLhDNuz",
    "outputId": "78729183-ab74-4ed3-b1a5-7788a7273b92"
   },
   "outputs": [
    {
     "data": {
      "text/plain": [
       "age                         int64\n",
       "sex                        object\n",
       "province                   object\n",
       "country                    object\n",
       "date_confirmation           int64\n",
       "chronic_disease_binary       bool\n",
       "Incident_Rate             float64\n",
       "Case_Fatality_Ratio       float64\n",
       "death_ratio               float64\n",
       "recovered_ratio           float64\n",
       "active_ratio              float64\n",
       "dtype: object"
      ]
     },
     "execution_count": 7,
     "metadata": {},
     "output_type": "execute_result"
    }
   ],
   "source": [
    "# do the same thing with test data\n",
    "test[\"date_confirmation\"]=pd.to_numeric(pd.to_datetime(test[\"date_confirmation\"]))\n",
    "test[\"death_ratio\"] = test[\"Deaths\"]/test[\"Confirmed\"]\n",
    "test[\"recovered_ratio\"] = test[\"Recovered\"]/test[\"Confirmed\"]\n",
    "test[\"active_ratio\"] = test[\"Active\"]/test[\"Confirmed\"]\n",
    "test= test.drop([\"latitude\",\"longitude\",\"Deaths\",\"Recovered\",\"Active\",\"Confirmed\"], axis=1)\n",
    "test.dtypes"
   ]
  },
  {
   "cell_type": "code",
   "execution_count": 8,
   "metadata": {
    "colab": {
     "base_uri": "https://localhost:8080/",
     "height": 49,
     "referenced_widgets": [
      "06254ca9527a420f9ffe5f37e72a4c3e",
      "83cb1357c61b464b80088dc74bfc357b",
      "342f6e90543e469192e68c553be4c58f",
      "5967cc9329f14143800b1fee3e9f7488",
      "97af68c1e47f46868d2de6f77815bcbe",
      "c2e835bb00f84bb9ade79509333edaa2",
      "76ca7fc221cc4ec88dc03e3c2080ec84",
      "ce116f51a59a469aa9126e3263a13928",
      "ecf3a29ca751459c8dddd14df8c84f3d",
      "72faafaf051a46298c368ff29c6b1914",
      "b1c41b64ac68481da711618971091dbe"
     ]
    },
    "id": "dM_ghbFvDXSl",
    "outputId": "532c68a6-38fb-436e-91e6-80d1ec94b8e4"
   },
   "outputs": [
    {
     "data": {
      "application/vnd.jupyter.widget-view+json": {
       "model_id": "06254ca9527a420f9ffe5f37e72a4c3e",
       "version_major": 2,
       "version_minor": 0
      },
      "text/plain": [
       "Pandas Apply:   0%|          | 0/4304 [00:00<?, ?it/s]"
      ]
     },
     "metadata": {},
     "output_type": "display_data"
    }
   ],
   "source": [
    "# do the same thing with test data\n",
    "test.province.fillna(0, inplace=True)\n",
    "test[\"province\"] = test.swifter.apply(inpute_province, axis=1)"
   ]
  },
  {
   "cell_type": "markdown",
   "metadata": {
    "id": "7h2O_Y61a005"
   },
   "source": [
    "# 1.2 Mapping the Features"
   ]
  },
  {
   "cell_type": "code",
   "execution_count": 9,
   "metadata": {
    "colab": {
     "base_uri": "https://localhost:8080/"
    },
    "id": "3zbZ7fJLwcCJ",
    "outputId": "c4241d4b-5fcb-4d44-b9df-3d39b4731031"
   },
   "outputs": [
    {
     "data": {
      "text/plain": [
       "age                         int64\n",
       "sex                         int64\n",
       "province                    int64\n",
       "country                     int64\n",
       "date_confirmation           int64\n",
       "chronic_disease_binary      int64\n",
       "Incident_Rate             float64\n",
       "Case_Fatality_Ratio       float64\n",
       "outcome_group               int64\n",
       "death_ratio               float64\n",
       "recovered_ratio           float64\n",
       "active_ratio              float64\n",
       "dtype: object"
      ]
     },
     "execution_count": 9,
     "metadata": {},
     "output_type": "execute_result"
    }
   ],
   "source": [
    "#use LabelEncoder to encode feature\n",
    "lbl = preprocessing.LabelEncoder()\n",
    "train['sex'] = lbl.fit_transform(train['sex'].astype(str))\n",
    "train['country'] = lbl.fit_transform(train['country'].astype(str))\n",
    "train['province'] = lbl.fit_transform(train['province'].astype(str))\n",
    "train['outcome_group'] = lbl.fit_transform(train['outcome_group'].astype(str))\n",
    "train[\"chronic_disease_binary\"]= lbl.fit_transform(train['chronic_disease_binary'].astype(str))\n",
    "train.dtypes"
   ]
  },
  {
   "cell_type": "code",
   "execution_count": 10,
   "metadata": {
    "colab": {
     "base_uri": "https://localhost:8080/"
    },
    "id": "Vw8vizqeLIb8",
    "outputId": "a2249fac-d6a1-461c-d5d4-25c121b2ea5f"
   },
   "outputs": [
    {
     "data": {
      "text/plain": [
       "age                         int64\n",
       "sex                         int64\n",
       "province                    int64\n",
       "country                     int64\n",
       "date_confirmation           int64\n",
       "chronic_disease_binary      int64\n",
       "Incident_Rate             float64\n",
       "Case_Fatality_Ratio       float64\n",
       "death_ratio               float64\n",
       "recovered_ratio           float64\n",
       "active_ratio              float64\n",
       "dtype: object"
      ]
     },
     "execution_count": 10,
     "metadata": {},
     "output_type": "execute_result"
    }
   ],
   "source": [
    "# do the same thing with test data\n",
    "test['sex'] = lbl.fit_transform(test['sex'].astype(str))\n",
    "test['country'] = lbl.fit_transform(test['country'].astype(str))\n",
    "test['province'] = lbl.fit_transform(test['province'].astype(str))\n",
    "test[\"chronic_disease_binary\"]= lbl.fit_transform(test['chronic_disease_binary'].astype(str))\n",
    "test.dtypes"
   ]
  },
  {
   "cell_type": "markdown",
   "metadata": {
    "id": "MrDeaFpPCa-8"
   },
   "source": [
    "# 1.3. Balance Dataset"
   ]
  },
  {
   "cell_type": "code",
   "execution_count": 11,
   "metadata": {
    "colab": {
     "base_uri": "https://localhost:8080/"
    },
    "id": "m2vLWYm_0LxL",
    "outputId": "99a76fb5-62b2-4fce-b4c7-e00060b2376c"
   },
   "outputs": [
    {
     "data": {
      "text/plain": [
       "1    13241\n",
       "2     2974\n",
       "0      997\n",
       "Name: outcome_group, dtype: int64"
      ]
     },
     "execution_count": 11,
     "metadata": {},
     "output_type": "execute_result"
    }
   ],
   "source": [
    "train.outcome_group.value_counts()"
   ]
  },
  {
   "cell_type": "code",
   "execution_count": 12,
   "metadata": {
    "colab": {
     "base_uri": "https://localhost:8080/"
    },
    "id": "ZQKGNN8PvLwT",
    "outputId": "997d3777-f274-403e-f3de-b8cfebfaf145"
   },
   "outputs": [
    {
     "data": {
      "text/plain": [
       "(array([0, 1, 2]), array([  997, 13241,  2974]))"
      ]
     },
     "execution_count": 12,
     "metadata": {},
     "output_type": "execute_result"
    }
   ],
   "source": [
    "#get X y from training\n",
    "X, y = train.drop([\"outcome_group\"], axis=1), train[\"outcome_group\"].values\n",
    "np.unique(y,return_counts=True)"
   ]
  },
  {
   "cell_type": "code",
   "execution_count": 13,
   "metadata": {
    "colab": {
     "base_uri": "https://localhost:8080/"
    },
    "id": "6QbBC6j-qgbK",
    "outputId": "c6cffe20-845a-403f-96c8-f4f4bd52b330"
   },
   "outputs": [
    {
     "data": {
      "text/plain": [
       "(array([0, 1, 2]), array([  771, 10592,  2406]))"
      ]
     },
     "execution_count": 13,
     "metadata": {},
     "output_type": "execute_result"
    }
   ],
   "source": [
    "#use train_test_split to split training into train and test\n",
    "X_train, X_test, y_train, y_test = train_test_split(X, y, test_size=0.2, random_state=123)\n",
    "np.unique(y_train,return_counts=True)"
   ]
  },
  {
   "cell_type": "code",
   "execution_count": 14,
   "metadata": {
    "colab": {
     "base_uri": "https://localhost:8080/"
    },
    "id": "elkcJ0y8O-Yv",
    "outputId": "23920dd4-3019-45f1-9ac9-c01eb78edd86"
   },
   "outputs": [
    {
     "data": {
      "text/plain": [
       "(array([0, 1, 2]), array([ 9883, 10443,  9974]))"
      ]
     },
     "execution_count": 14,
     "metadata": {},
     "output_type": "execute_result"
    }
   ],
   "source": [
    "#balance the training data using imbalance learn SMOTETomek\n",
    "sm = SMOTETomek()\n",
    "X_resampled, y_resampled = sm.fit_resample(X_train, y_train)\n",
    "np.unique(y_resampled,return_counts=True)"
   ]
  },
  {
   "cell_type": "markdown",
   "metadata": {
    "id": "QVJCLtMw4GUD"
   },
   "source": [
    "# Random Forest"
   ]
  },
  {
   "cell_type": "code",
   "execution_count": 18,
   "metadata": {
    "colab": {
     "base_uri": "https://localhost:8080/"
    },
    "id": "ctfVHKyV4O_U",
    "outputId": "8f00ff5e-f05c-48ff-99e6-5c74951186e2"
   },
   "outputs": [
    {
     "name": "stdout",
     "output_type": "stream",
     "text": [
      "[0.48       0.98744142 0.86394558] 0.7771290009287064\n",
      "              precision    recall  f1-score   support\n",
      "\n",
      "           0       0.60      0.40      0.48       226\n",
      "           1       0.98      0.99      0.99      2649\n",
      "           2       0.84      0.89      0.86       568\n",
      "\n",
      "    accuracy                           0.94      3443\n",
      "   macro avg       0.81      0.76      0.78      3443\n",
      "weighted avg       0.93      0.94      0.93      3443\n",
      "\n"
     ]
    }
   ],
   "source": [
    "#testing unbalance + Random Forest\n",
    "rfc = RandomForestClassifier(random_state=0)\n",
    "rfc.fit(X_train, y_train)\n",
    "y_pred = rfc.predict(X_test)\n",
    "print(f1_score(y_test, y_pred, average=None), f1_score(y_test, y_pred, average=\"macro\"))\n",
    "print(classification_report(y_test, y_pred))\n"
   ]
  },
  {
   "cell_type": "code",
   "execution_count": 19,
   "metadata": {
    "colab": {
     "base_uri": "https://localhost:8080/"
    },
    "id": "G3VSEGgx4OiE",
    "outputId": "a755c4bb-9dc8-4b5e-da2c-51e04ed1f26c"
   },
   "outputs": [
    {
     "name": "stdout",
     "output_type": "stream",
     "text": [
      "[0.47407407 0.9785782  0.81419234] 0.7556148722434384\n",
      "              precision    recall  f1-score   support\n",
      "\n",
      "           0       0.41      0.57      0.47       226\n",
      "           1       0.98      0.97      0.98      2649\n",
      "           2       0.87      0.77      0.81       568\n",
      "\n",
      "    accuracy                           0.91      3443\n",
      "   macro avg       0.75      0.77      0.76      3443\n",
      "weighted avg       0.93      0.91      0.92      3443\n",
      "\n"
     ]
    }
   ],
   "source": [
    "#testing SMOTETomek + Random Forest\n",
    "pipeline = Pipeline(steps=[('c', SMOTETomek()), ('m', rfc)])\n",
    "pipeline.fit(X_train, y_train)\n",
    "y_pred = pipeline.predict(X_test)\n",
    "print(f1_score(y_test, y_pred, average=None), f1_score(y_test, y_pred, average=\"macro\"))\n",
    "  \n",
    "print(classification_report(y_test, y_pred))\n",
    "\n"
   ]
  },
  {
   "cell_type": "markdown",
   "metadata": {
    "id": "GZaBRLSfDzbP"
   },
   "source": [
    "## Hyperparameter Tuning (RandomForestClassifier) -- Kingsley\n",
    "\n"
   ]
  },
  {
   "cell_type": "code",
   "execution_count": 20,
   "metadata": {
    "id": "4-4MH3gDMNxI"
   },
   "outputs": [],
   "source": [
    "#list of hyperparameter for Random Forest\n",
    "max_depth_list = [3, 4, 5, 6, 7, 8, 9, 10]\n",
    "n_estimators_list = [100,200,300]\n",
    "criterion_list = [\"gini\", \"entropy\", \"log_loss\"]\n",
    "min_samples_split_list = [2, 4, 6, 8, 10, 12]\n",
    "min_samples_leaf_list = [0, 1, 2, 3, 4]\n",
    "max_features_list = [5,6,7,8,9,10,11,12]"
   ]
  },
  {
   "cell_type": "code",
   "execution_count": null,
   "metadata": {
    "id": "MxqvcnVGKLzb"
   },
   "outputs": [],
   "source": [
    "#Randomized Search CV\n",
    "best_score = 0\n",
    "best_params=[]\n",
    "n_itr=100\n",
    "f = open(\"model_1_tuning.txt\", \"w+\")\n",
    "for i in range(n_itr):\n",
    "    max_d = random.choice(max_depth_list)\n",
    "    n_est = random.choice(n_estimators_list)\n",
    "    cri = random.choice(criterion_list)\n",
    "    min_split = random.choice(min_samples_split_list)\n",
    "    max_f = random.choice(max_features_list)\n",
    "    \n",
    "    pipeline = Pipeline(steps=[('c', SMOTETomek()), ('m', RandomForestClassifier(\n",
    "        max_depth = max_d,\n",
    "        n_estimators = n_est,\n",
    "        criterion = cri,\n",
    "        min_samples_split = min_split,\n",
    "        min_samples_leaf = min_split,\n",
    "        max_features = max_f,\n",
    "        n_jobs=-1\n",
    "        random_state=0\n",
    "    ))])\n",
    "    \n",
    "    F1_macro_scores = cross_val_score(pipeline, X_train, y_train, cv=10, scoring='f1_macro')\n",
    "    mean_F1_macro_scores = sum(F1_macro_scores) / len(F1_macro_scores)\n",
    "    \n",
    "    F1_deceased_scores = cross_val_score(pipeline, X_train, y_train, cv=10, scoring= make_scorer(f1_score, labels=[0], average= \"macro\"))\n",
    "    mean_F1_deceased_scores = sum(F1_deceased_scores) / len(F1_deceased_scores)\n",
    "    \n",
    "    accuracy_score = cross_val_score(pipeline, X_train, y_train, cv=10, scoring='accuracy')\n",
    "    mean_accuracy_score = sum(accuracy_score) / len(accuracy_score)\n",
    "    \n",
    "    if F1_macro_scores > best_score:\n",
    "        best_params=[max_d, n_est, cri, min_split, max_f]\n",
    "        best_score = F1_macro_scores\n",
    "    \n",
    "    f.write(f\"========{i}========\")\n",
    "    f.write('\\n')\n",
    "    f.write(f\"max_depth: {max_d}, n_estimators: {n_est}, criterion: {cri}, min_samples_split: {min_split}, max_features: {max_f}\\n\")\n",
    "    f.write('\\n')\n",
    "    f.write(f\"mean_F1_macro_scores={mean_F1_macro_scores},mean_F1_deceased_scores={mean_F1_deceased_scores},mean_accuracy_score={mean_accuracy_score}\\n\")\n",
    "    f.write('\\n')\n",
    "    \n",
    "f.write(f\"Best Params: {best_params}\")\n",
    "f.write(f\"Best Params: {best_score}\")"
   ]
  },
  {
   "cell_type": "code",
   "execution_count": 21,
   "metadata": {
    "id": "XsmhdLg3KLzc"
   },
   "outputs": [],
   "source": [
    "best_params = {\"max_depth\":7,\"n_estimators\":100, \"criterion\": 'log_loss', \"min_samples_split\": 2, \"max_features\" : 5}\n"
   ]
  },
  {
   "cell_type": "code",
   "execution_count": 22,
   "metadata": {
    "colab": {
     "base_uri": "https://localhost:8080/"
    },
    "id": "To3BhvhjJqo6",
    "outputId": "c1c83972-5753-4a57-b228-747967b48223"
   },
   "outputs": [
    {
     "name": "stdout",
     "output_type": "stream",
     "text": [
      "[0.58969072 0.9879925  0.84407096] 0.807251392892358\n",
      "              precision    recall  f1-score   support\n",
      "\n",
      "           0       0.55      0.63      0.59       226\n",
      "           1       0.98      0.99      0.99      2649\n",
      "           2       0.90      0.80      0.84       568\n",
      "\n",
      "    accuracy                           0.94      3443\n",
      "   macro avg       0.81      0.81      0.81      3443\n",
      "weighted avg       0.94      0.94      0.94      3443\n",
      "\n",
      "0.789715165314148\n"
     ]
    }
   ],
   "source": [
    "#testing best_params\n",
    "pipeline = Pipeline(steps=[('c', SMOTETomek(random_state=0)),\n",
    "                ('m',\n",
    "                 RandomForestClassifier(n_jobs=-1,\n",
    "                                        max_depth=7, \n",
    "                                        n_estimators= 100, \n",
    "                                        criterion = \"log_loss\", \n",
    "                                        min_samples_split= 2, \n",
    "                                        max_features= 5,\n",
    "                                        random_state=0))])\n",
    "pipeline.fit(X_train, y_train)\n",
    "y_pred = pipeline.predict(X_test)\n",
    "print(f1_score(y_test, y_pred, average=None), f1_score(y_test, y_pred, average=\"macro\"))\n",
    "  \n",
    "print(classification_report(y_test, y_pred))\n",
    "\n",
    "scores = cross_val_score(pipeline, X, y, cv=10,  scoring='f1_macro', n_jobs =- 1)\n",
    "print(sum(scores)/len(scores))"
   ]
  },
  {
   "cell_type": "markdown",
   "metadata": {
    "id": "7I_flaBr4DX9"
   },
   "source": [
    "# XGboost"
   ]
  },
  {
   "cell_type": "code",
   "execution_count": 23,
   "metadata": {
    "colab": {
     "base_uri": "https://localhost:8080/",
     "height": 235
    },
    "id": "l36sdaa46Lls",
    "outputId": "bda8df64-9890-4500-f921-b5afb83b4859"
   },
   "outputs": [
    {
     "ename": "NameError",
     "evalue": "ignored",
     "output_type": "error",
     "traceback": [
      "\u001b[0;31m---------------------------------------------------------------------------\u001b[0m",
      "\u001b[0;31mNameError\u001b[0m                                 Traceback (most recent call last)",
      "\u001b[0;32m<ipython-input-23-93da594b2d85>\u001b[0m in \u001b[0;36m<module>\u001b[0;34m\u001b[0m\n\u001b[1;32m      1\u001b[0m \u001b[0;31m#unbalance + XGboost\u001b[0m\u001b[0;34m\u001b[0m\u001b[0;34m\u001b[0m\u001b[0;34m\u001b[0m\u001b[0m\n\u001b[0;32m----> 2\u001b[0;31m \u001b[0mxgb\u001b[0m\u001b[0;34m.\u001b[0m\u001b[0mfit\u001b[0m\u001b[0;34m(\u001b[0m\u001b[0mX_train\u001b[0m\u001b[0;34m,\u001b[0m \u001b[0my_train\u001b[0m\u001b[0;34m)\u001b[0m\u001b[0;34m\u001b[0m\u001b[0;34m\u001b[0m\u001b[0m\n\u001b[0m\u001b[1;32m      3\u001b[0m \u001b[0my_pred\u001b[0m \u001b[0;34m=\u001b[0m \u001b[0mxgb\u001b[0m\u001b[0;34m.\u001b[0m\u001b[0mpredict\u001b[0m\u001b[0;34m(\u001b[0m\u001b[0mX_test\u001b[0m\u001b[0;34m)\u001b[0m\u001b[0;34m\u001b[0m\u001b[0;34m\u001b[0m\u001b[0m\n\u001b[1;32m      4\u001b[0m \u001b[0mprint\u001b[0m\u001b[0;34m(\u001b[0m\u001b[0mclassification_report\u001b[0m\u001b[0;34m(\u001b[0m\u001b[0my_test\u001b[0m\u001b[0;34m,\u001b[0m \u001b[0my_pred\u001b[0m\u001b[0;34m)\u001b[0m\u001b[0;34m)\u001b[0m\u001b[0;34m\u001b[0m\u001b[0;34m\u001b[0m\u001b[0m\n\u001b[1;32m      5\u001b[0m \u001b[0;34m\u001b[0m\u001b[0m\n",
      "\u001b[0;31mNameError\u001b[0m: name 'xgb' is not defined"
     ]
    }
   ],
   "source": [
    "#unbalance + XGboost\n",
    "xgb.fit(X_train, y_train)\n",
    "y_pred = xgb.predict(X_test)\n",
    "print(classification_report(y_test, y_pred))\n",
    "\n",
    "scores = cross_val_score(xgb, X_train, y_train, cv=10, scoring='f1_macro',n_jobs=-1)\n",
    "print(\"avaerage F1:\",sum(scores)/len(scores))"
   ]
  },
  {
   "cell_type": "code",
   "execution_count": null,
   "metadata": {
    "id": "LobHCFP8Gn6c"
   },
   "outputs": [],
   "source": [
    "#SMOTETomek + XGboost\n",
    "pipeline = Pipeline(steps=[('c', SMOTETomek()), ('m', xgb)])\n",
    "pipeline.fit(X_train, y_train)\n",
    "y_pred = pipeline.predict(X_test)\n",
    "\n",
    "print(classification_report(y_test, y_pred))\n",
    "\n",
    "scores = cross_val_score(pipeline, X, y, cv=10,  scoring='f1_macro', n_jobs=-1)\n",
    "print(\"avaerage F1:\",sum(scores)/len(scores))"
   ]
  },
  {
   "cell_type": "markdown",
   "metadata": {
    "id": "cnROJwpIDtp8"
   },
   "source": []
  },
  {
   "cell_type": "markdown",
   "metadata": {
    "id": "7RiTYeVJ-laV"
   },
   "source": [
    "# 1.4. Hyperparameter Tuning (XGBoost) -- Jacky"
   ]
  },
  {
   "cell_type": "code",
   "execution_count": null,
   "metadata": {
    "id": "A1ozNTbpKLYZ"
   },
   "outputs": [],
   "source": [
    "#list of hyperparameter for XGBoost\n",
    "learning_rate_list = [0.01,0.05,0.10,0.15,0.20]\n",
    "max_depth_list = [ 3, 4, 5, 6, 7, 8, 9, 10]\n",
    "min_child_weight_list= [ 1, 3, 5, 7 ]\n",
    "colsample_bytree_list = [ 0.3, 0.4, 0.5 , 0.7 , 1]\n",
    "n_estimators_list = [100,200,300]"
   ]
  },
  {
   "cell_type": "markdown",
   "metadata": {
    "id": "_Bcecb13FRk9"
   },
   "source": []
  },
  {
   "cell_type": "code",
   "execution_count": null,
   "metadata": {
    "id": "3TH5Ihm-hcYJ"
   },
   "outputs": [],
   "source": [
    "#Randomized Search CV for XGBoost\n",
    "best_score = 0\n",
    "best_params=[]\n",
    "n_itr=100\n",
    "f = open(\"model_1_tuning.txt\", \"w+\")\n",
    "for i in range(n_itr):\n",
    "    lear = random.choice(learning_rate_list)\n",
    "    max_d = random.choice(max_depth_list)\n",
    "    min_c = random.choice(min_child_weight_list)\n",
    "    cols = random.choice(colsample_bytree_list)\n",
    "    n_est = random.choice(n_estimators_list)\n",
    "    \n",
    "    pipeline = Pipeline(steps=[('c', SMOTETomek()), ('m', XGBClassifier(\n",
    "        learning_rate = lear,\n",
    "        max_dept = max_d,\n",
    "        min_child_weight = min_c,\n",
    "        colsample_bytree = cols,\n",
    "        n_estimators = n_est,\n",
    "        random_state=0,\n",
    "        n_jobs=-1,\n",
    "        objective=\"multi:softprob\",\n",
    "        eval_metric=\"auc\",\n",
    "        verbosity=0,\n",
    "    ))])\n",
    "    \n",
    "    \n",
    "    F1_macro_scores = cross_val_score(pipeline, X_train, y_train, cv=10, scoring='f1_macro',n_jobs=-1)\n",
    "    mean_F1_macro_scores = sum(F1_macro_scores) / len(F1_macro_scores)\n",
    "    \n",
    "    F1_deceased_scores = cross_val_score(pipeline, X_train, y_train, cv=10, scoring= make_scorer(f1_score, labels=[0], average= \"macro\"),n_jobs=-1)\n",
    "    mean_F1_deceased_scores = sum(F1_deceased_scores) / len(F1_deceased_scores)\n",
    "    \n",
    "    accuracy_score = cross_val_score(pipeline, X_train, y_train, cv=10, scoring='accuracy',n_jobs=-1)\n",
    "    mean_accuracy_score = sum(accuracy_score) / len(accuracy_score)\n",
    "    \n",
    "    if mean_F1_deceased_scores > best_score:\n",
    "        best_params=[lear, max_d, min_c, cols, n_est]\n",
    "        best_score = mean_F1_deceased_scores\n",
    "    \n",
    "    f.write(f\"========{i}========\")\n",
    "    f.write('\\n')\n",
    "    f.write(f\"learning_rate: {lear}, max_dept: {max_d}, min_child_weight: {min_c}, colsample_bytree_list: {cols}, n_estimators: {n_est},\")\n",
    "    f.write('\\n')\n",
    "    f.write(f\"mean_F1_macro_scores={mean_F1_macro_scores}, mean_F1_deceased_scores={mean_F1_deceased_scores}, mean_accuracy_score={mean_accuracy_score}\")\n",
    "    f.write('\\n')\n",
    "\n",
    "f.write(f\"Best Params: {best_params}\")\n",
    "f.write(f\"Best Params: {best_score}\")\n"
   ]
  },
  {
   "cell_type": "code",
   "execution_count": 24,
   "metadata": {
    "id": "qFuC67ZWiE3R"
   },
   "outputs": [],
   "source": [
    "best_param = {\"learning_rate\": 0.15, \"max_dept\": 7, \"min_child_weight\": 3, \"colsample_bytree\": 0.3, \"n_estimators\": 200,}"
   ]
  },
  {
   "cell_type": "code",
   "execution_count": 36,
   "metadata": {
    "colab": {
     "base_uri": "https://localhost:8080/"
    },
    "id": "WKuepMWxDcbp",
    "outputId": "d5e5fbfe-6ac0-4eac-bebf-56dfd4f90615"
   },
   "outputs": [
    {
     "name": "stdout",
     "output_type": "stream",
     "text": [
      "[0.52671756 0.98106061 0.83548983] 0.7810893323179732\n",
      "              precision    recall  f1-score   support\n",
      "\n",
      "           0       0.46      0.61      0.53       226\n",
      "           1       0.98      0.98      0.98      2649\n",
      "           2       0.88      0.80      0.84       568\n",
      "\n",
      "    accuracy                           0.92      3443\n",
      "   macro avg       0.78      0.79      0.78      3443\n",
      "weighted avg       0.93      0.92      0.93      3443\n",
      "\n"
     ]
    }
   ],
   "source": [
    "#testing best_param\n",
    "pipeline = Pipeline(steps=[('c', SMOTETomek()),\n",
    "                ('m',\n",
    "                 XGBClassifier(n_jobs=-1,\n",
    "                                        learning_rate=0.15, \n",
    "                                        max_depth = 7, \n",
    "                                        min_child_weight = 3, \n",
    "                                        colsample_bytree= 0.3, \n",
    "                                        n_estimators = 200,))])\n",
    "pipeline.fit(X_train, y_train)\n",
    "y_pred = pipeline.predict(X_test)\n",
    "print(f1_score(y_test, y_pred, average=None), f1_score(y_test, y_pred, average=\"macro\"))\n",
    "  \n",
    "print(classification_report(y_test, y_pred))\n"
   ]
  },
  {
   "cell_type": "markdown",
   "metadata": {
    "id": "vj0iTGYMX7Ad"
   },
   "source": [
    "# 1.5. Overfitting"
   ]
  },
  {
   "cell_type": "markdown",
   "metadata": {
    "id": "o8LU3LWcqqgX"
   },
   "source": [
    "# Random Forest"
   ]
  },
  {
   "cell_type": "code",
   "execution_count": 28,
   "metadata": {
    "colab": {
     "base_uri": "https://localhost:8080/",
     "height": 420
    },
    "id": "TaQo14Q2qftR",
    "outputId": "058c3997-d1d4-4815-f22a-8ec5562c1da9"
   },
   "outputs": [
    {
     "name": "stdout",
     "output_type": "stream",
     "text": [
      ">3, train: 0.736, test: 0.757\n",
      ">4, train: 0.748, test: 0.771\n",
      ">5, train: 0.780, test: 0.792\n",
      ">6, train: 0.801, test: 0.804\n",
      ">7, train: 0.807, test: 0.807\n",
      ">8, train: 0.811, test: 0.806\n",
      ">9, train: 0.814, test: 0.806\n",
      ">10, train: 0.816, test: 0.798\n"
     ]
    },
    {
     "data": {
      "image/png": "[encoded data removed]",
      "text/plain": [
       "<Figure size 432x288 with 1 Axes>"
      ]
     },
     "metadata": {
      "needs_background": "light"
     },
     "output_type": "display_data"
    }
   ],
   "source": [
    "\n",
    "# define the tree depths to evaluate\n",
    "values = [3, 4, 5, 6, 7, 8, 9, 10]\n",
    "train_scores, test_scores = list(), list()\n",
    "# evaluate a decision tree for each depth\n",
    "for i in values:\n",
    "  # configure the model\n",
    "  model = Pipeline(steps=[('c', SMOTETomek(random_state=0)),('m',\n",
    "                                                             RandomForestClassifier(n_jobs=-1,\n",
    "                                                                                    max_depth=i, \n",
    "                                                                                    n_estimators= 100, \n",
    "                                                                                    criterion = \"log_loss\", \n",
    "                                                                                    min_samples_split= 2, \n",
    "                                                                                    max_features= 5,\n",
    "                                                                                    random_state=0))])\n",
    "  # fit model on the training dataset\n",
    "  model.fit(X_train, y_train)\n",
    "  # evaluate on the train dataset\n",
    "  train_yhat = model.predict(X_train)\n",
    "  train_f1 = f1_score(y_train, train_yhat,average='macro')\n",
    "  train_scores.append(train_f1)\n",
    "  # evaluate on the test dataset\n",
    "  test_yhat = model.predict(X_test)\n",
    "  test_acc = f1_score(y_test, test_yhat,average='macro')\n",
    "  test_scores.append(test_acc)\n",
    "  # summarize progress\n",
    "  print('>%d, train: %.3f, test: %.3f' % (i, train_f1, test_acc))\n",
    "# plot of train and test scores vs tree depth\n",
    "pyplot.plot(values, train_scores, '-o', label='Train')\n",
    "pyplot.plot(values, test_scores, '-o', label='Test')\n",
    "pyplot.title(\"Random Forest Classifier -- Depth vs F1 marco \")\n",
    "pyplot.legend()\n",
    "pyplot.show()"
   ]
  },
  {
   "cell_type": "markdown",
   "metadata": {
    "id": "8PoChSMyqapt"
   },
   "source": [
    "# XGboost"
   ]
  },
  {
   "cell_type": "code",
   "execution_count": 29,
   "metadata": {
    "colab": {
     "base_uri": "https://localhost:8080/",
     "height": 420
    },
    "id": "jJrYHvGvX89B",
    "outputId": "6d5eafa7-7551-4d4a-fd7a-0eed4d676549"
   },
   "outputs": [
    {
     "name": "stdout",
     "output_type": "stream",
     "text": [
      ">3, train: 0.801, test: 0.795\n",
      ">4, train: 0.809, test: 0.793\n",
      ">5, train: 0.816, test: 0.791\n",
      ">6, train: 0.822, test: 0.786\n",
      ">7, train: 0.827, test: 0.780\n",
      ">8, train: 0.834, test: 0.780\n",
      ">9, train: 0.843, test: 0.773\n",
      ">10, train: 0.848, test: 0.770\n"
     ]
    },
    {
     "data": {
      "image/png": "[encoded data removed]",
      "text/plain": [
       "<Figure size 432x288 with 1 Axes>"
      ]
     },
     "metadata": {
      "needs_background": "light"
     },
     "output_type": "display_data"
    }
   ],
   "source": [
    "from matplotlib import pyplot\n",
    "from imblearn.pipeline import Pipeline\n",
    "# define the tree depths to evaluate\n",
    "values = [3, 4, 5, 6, 7, 8, 9, 10]\n",
    "train_scores, test_scores = list(), list()\n",
    "# evaluate a decision tree for each depth\n",
    "for i in values:\n",
    "  # configure the model\n",
    "  model = Pipeline(steps=[('c', SMOTETomek(random_state=0)),('m',\n",
    "                 XGBClassifier(n_jobs=-1,\n",
    "                                        learning_rate=0.15, \n",
    "                                        max_depth = i, \n",
    "                                        min_child_weight = 3, \n",
    "                                        colsample_bytree= 0.3, \n",
    "                                        n_estimators = 200,))])\n",
    "  # fit model on the training dataset\n",
    "  model.fit(X_train, y_train)\n",
    "  # evaluate on the train dataset\n",
    "  train_yhat = model.predict(X_train)\n",
    "  train_f1 = f1_score(y_train, train_yhat,average='macro')\n",
    "  train_scores.append(train_f1)\n",
    "  # evaluate on the test dataset\n",
    "  test_yhat = model.predict(X_test)\n",
    "  test_acc = f1_score(y_test, test_yhat,average='macro')\n",
    "  test_scores.append(test_acc)\n",
    "  # summarize progress\n",
    "  print('>%d, train: %.3f, test: %.3f' % (i, train_f1, test_acc))\n",
    "# plot of train and test scores vs tree depth\n",
    "pyplot.plot(values, train_scores, '-o', label='Train')\n",
    "pyplot.plot(values, test_scores, '-o', label='Test')\n",
    "pyplot.title(\"XGBoost Classifier -- Depth vs F1 marco \")\n",
    "pyplot.legend()\n",
    "pyplot.show()"
   ]
  },
  {
   "cell_type": "markdown",
   "metadata": {
    "id": "02CgaoDjkLOF"
   },
   "source": [
    "# 1.6. Comparative study"
   ]
  },
  {
   "cell_type": "code",
   "execution_count": 30,
   "metadata": {
    "colab": {
     "base_uri": "https://localhost:8080/"
    },
    "id": "iuEM_OFfkufB",
    "outputId": "fbcc99e8-725e-49d6-c89f-4dee786fb8f8"
   },
   "outputs": [
    {
     "name": "stdout",
     "output_type": "stream",
     "text": [
      "              precision    recall  f1-score   support\n",
      "\n",
      "           0       0.54      0.65      0.59       226\n",
      "           1       0.98      0.99      0.99      2649\n",
      "           2       0.90      0.79      0.85       568\n",
      "\n",
      "    accuracy                           0.94      3443\n",
      "   macro avg       0.81      0.81      0.81      3443\n",
      "weighted avg       0.94      0.94      0.94      3443\n",
      "\n"
     ]
    }
   ],
   "source": [
    "#Random Forest Best paramn testing\n",
    "pipeline = Pipeline(steps=[('c', SMOTETomek()),\n",
    "                ('m',\n",
    "                 RandomForestClassifier(n_jobs=-1,\n",
    "                                        max_depth=7, \n",
    "                                        n_estimators= 100, \n",
    "                                        criterion = \"log_loss\", \n",
    "                                        min_samples_split= 2, \n",
    "                                        max_features= 5,\n",
    "                                        ))])\n",
    "pipeline.fit(X_train, y_train)\n",
    "y_pred = pipeline.predict(X_test)\n",
    "\n",
    "  \n",
    "print(classification_report(y_test, y_pred))\n",
    "\n"
   ]
  },
  {
   "cell_type": "code",
   "execution_count": 31,
   "metadata": {
    "colab": {
     "base_uri": "https://localhost:8080/"
    },
    "id": "WmNoJL5nIDeK",
    "outputId": "13154e02-b9b4-4405-fc73-9701454c6d69"
   },
   "outputs": [
    {
     "name": "stdout",
     "output_type": "stream",
     "text": [
      "              precision    recall  f1-score   support\n",
      "\n",
      "           0       0.47      0.60      0.53       226\n",
      "           1       0.98      0.98      0.98      2649\n",
      "           2       0.87      0.80      0.83       568\n",
      "\n",
      "    accuracy                           0.92      3443\n",
      "   macro avg       0.78      0.79      0.78      3443\n",
      "weighted avg       0.93      0.92      0.93      3443\n",
      "\n"
     ]
    }
   ],
   "source": [
    "#XGboost Best paramn testing\n",
    "pipeline = Pipeline(steps=[('c', SMOTETomek()),\n",
    "                ('m',\n",
    "                 XGBClassifier(n_jobs=-1,\n",
    "                                        learning_rate=0.15, \n",
    "                                        max_depth = 7, \n",
    "                                        min_child_weight = 3, \n",
    "                                        colsample_bytree= 0.3, \n",
    "                                        n_estimators = 200,\n",
    "                                        ))])\n",
    "pipeline.fit(X_train, y_train)\n",
    "y_pred = pipeline.predict(X_test)\n",
    "\n",
    "  \n",
    "print(classification_report(y_test, y_pred))\n"
   ]
  },
  {
   "cell_type": "markdown",
   "metadata": {
    "id": "hytcZYSLkuxj"
   },
   "source": [
    "# 1.7. Test Case Prediction"
   ]
  },
  {
   "cell_type": "code",
   "execution_count": 32,
   "metadata": {
    "id": "6Na3a5hxJyzf"
   },
   "outputs": [],
   "source": [
    "#Test Case Prediction using Ranodm Forest best Param\n",
    "pipeline = Pipeline(steps=[('c', SMOTETomek()),\n",
    "                ('m',\n",
    "                 RandomForestClassifier(n_jobs=-1,\n",
    "                                        max_depth=7, \n",
    "                                        n_estimators= 100, \n",
    "                                        criterion = \"log_loss\", \n",
    "                                        min_samples_split= 2, \n",
    "                                        max_features= 5,\n",
    "                                        ))])\n",
    "pipeline.fit(X_train, y_train)\n",
    "y_preds = pipeline.predict(test)"
   ]
  },
  {
   "cell_type": "code",
   "execution_count": 33,
   "metadata": {
    "colab": {
     "base_uri": "https://localhost:8080/"
    },
    "id": "DhEXOQpjLvxs",
    "outputId": "67421093-7f1b-4572-d596-323274a9b766"
   },
   "outputs": [
    {
     "data": {
      "text/plain": [
       "(4304,)"
      ]
     },
     "execution_count": 33,
     "metadata": {},
     "output_type": "execute_result"
    }
   ],
   "source": [
    "y_preds.shape"
   ]
  },
  {
   "cell_type": "code",
   "execution_count": 34,
   "metadata": {
    "id": "GMYZdF1QsyUi"
   },
   "outputs": [],
   "source": [
    "def create_submission_file(y_preds, file_name):\n",
    "  with open(file_name, 'w') as csvfile:\n",
    "    wr = csv.writer(csvfile, quoting=csv.QUOTE_ALL)\n",
    "    wr.writerow([\"Id\", \"Prediction\"])\n",
    "    for i, pred in enumerate(y_preds):\n",
    "      wr.writerow([str(i), str(pred)])\n",
    "\n",
    "create_submission_file(y_preds, \"submission_random_forest.csv\")"
   ]
  },
  {
   "cell_type": "code",
   "execution_count": 35,
   "metadata": {
    "colab": {
     "base_uri": "https://localhost:8080/"
    },
    "id": "rsJN0LY-KZ3l",
    "outputId": "1fb52c77-32a2-45b9-9fe2-9342b040bd18"
   },
   "outputs": [
    {
     "data": {
      "text/plain": [
       "array([0, 1, 1, ..., 1, 1, 1])"
      ]
     },
     "execution_count": 35,
     "metadata": {},
     "output_type": "execute_result"
    }
   ],
   "source": [
    "y_preds"
   ]
  }
 ],
 "metadata": {
  "colab": {
   "provenance": []
  },
  "kernelspec": {
   "display_name": "Python 3 (ipykernel)",
   "language": "python",
   "name": "python3"
  },
  "language_info": {
   "codemirror_mode": {
    "name": "ipython",
    "version": 3
   },
   "file_extension": ".py",
   "mimetype": "text/x-python",
   "name": "python",
   "nbconvert_exporter": "python",
   "pygments_lexer": "ipython3",
   "version": "3.8.13"
  },
  "widgets": {
   "application/vnd.jupyter.widget-state+json": {
    "022ba98deefe43d88e6e37a7eef8adc2": {
     "model_module": "@jupyter-widgets/base",
     "model_module_version": "1.2.0",
     "model_name": "LayoutModel",
     "state": {
      "_model_module": "@jupyter-widgets/base",
      "_model_module_version": "1.2.0",
      "_model_name": "LayoutModel",
      "_view_count": null,
      "_view_module": "@jupyter-widgets/base",
      "_view_module_version": "1.2.0",
      "_view_name": "LayoutView",
      "align_content": null,
      "align_items": null,
      "align_self": null,
      "border": null,
      "bottom": null,
      "display": null,
      "flex": null,
      "flex_flow": null,
      "grid_area": null,
      "grid_auto_columns": null,
      "grid_auto_flow": null,
      "grid_auto_rows": null,
      "grid_column": null,
      "grid_gap": null,
      "grid_row": null,
      "grid_template_areas": null,
      "grid_template_columns": null,
      "grid_template_rows": null,
      "height": null,
      "justify_content": null,
      "justify_items": null,
      "left": null,
      "margin": null,
      "max_height": null,
      "max_width": null,
      "min_height": null,
      "min_width": null,
      "object_fit": null,
      "object_position": null,
      "order": null,
      "overflow": null,
      "overflow_x": null,
      "overflow_y": null,
      "padding": null,
      "right": null,
      "top": null,
      "visibility": null,
      "width": null
     }
    },
    "06254ca9527a420f9ffe5f37e72a4c3e": {
     "model_module": "@jupyter-widgets/controls",
     "model_module_version": "1.5.0",
     "model_name": "HBoxModel",
     "state": {
      "_dom_classes": [],
      "_model_module": "@jupyter-widgets/controls",
      "_model_module_version": "1.5.0",
      "_model_name": "HBoxModel",
      "_view_count": null,
      "_view_module": "@jupyter-widgets/controls",
      "_view_module_version": "1.5.0",
      "_view_name": "HBoxView",
      "box_style": "",
      "children": [
       "IPY_MODEL_83cb1357c61b464b80088dc74bfc357b",
       "IPY_MODEL_342f6e90543e469192e68c553be4c58f",
       "IPY_MODEL_5967cc9329f14143800b1fee3e9f7488"
      ],
      "layout": "IPY_MODEL_97af68c1e47f46868d2de6f77815bcbe"
     }
    },
    "288a44fc60064d5e8e852283e8364303": {
     "model_module": "@jupyter-widgets/base",
     "model_module_version": "1.2.0",
     "model_name": "LayoutModel",
     "state": {
      "_model_module": "@jupyter-widgets/base",
      "_model_module_version": "1.2.0",
      "_model_name": "LayoutModel",
      "_view_count": null,
      "_view_module": "@jupyter-widgets/base",
      "_view_module_version": "1.2.0",
      "_view_name": "LayoutView",
      "align_content": null,
      "align_items": null,
      "align_self": null,
      "border": null,
      "bottom": null,
      "display": null,
      "flex": null,
      "flex_flow": null,
      "grid_area": null,
      "grid_auto_columns": null,
      "grid_auto_flow": null,
      "grid_auto_rows": null,
      "grid_column": null,
      "grid_gap": null,
      "grid_row": null,
      "grid_template_areas": null,
      "grid_template_columns": null,
      "grid_template_rows": null,
      "height": null,
      "justify_content": null,
      "justify_items": null,
      "left": null,
      "margin": null,
      "max_height": null,
      "max_width": null,
      "min_height": null,
      "min_width": null,
      "object_fit": null,
      "object_position": null,
      "order": null,
      "overflow": null,
      "overflow_x": null,
      "overflow_y": null,
      "padding": null,
      "right": null,
      "top": null,
      "visibility": null,
      "width": null
     }
    },
    "342f6e90543e469192e68c553be4c58f": {
     "model_module": "@jupyter-widgets/controls",
     "model_module_version": "1.5.0",
     "model_name": "FloatProgressModel",
     "state": {
      "_dom_classes": [],
      "_model_module": "@jupyter-widgets/controls",
      "_model_module_version": "1.5.0",
      "_model_name": "FloatProgressModel",
      "_view_count": null,
      "_view_module": "@jupyter-widgets/controls",
      "_view_module_version": "1.5.0",
      "_view_name": "ProgressView",
      "bar_style": "success",
      "description": "",
      "description_tooltip": null,
      "layout": "IPY_MODEL_ce116f51a59a469aa9126e3263a13928",
      "max": 4304,
      "min": 0,
      "orientation": "horizontal",
      "style": "IPY_MODEL_ecf3a29ca751459c8dddd14df8c84f3d",
      "value": 4304
     }
    },
    "41a2c1923105434d8232c2526dae1537": {
     "model_module": "@jupyter-widgets/controls",
     "model_module_version": "1.5.0",
     "model_name": "HBoxModel",
     "state": {
      "_dom_classes": [],
      "_model_module": "@jupyter-widgets/controls",
      "_model_module_version": "1.5.0",
      "_model_name": "HBoxModel",
      "_view_count": null,
      "_view_module": "@jupyter-widgets/controls",
      "_view_module_version": "1.5.0",
      "_view_name": "HBoxView",
      "box_style": "",
      "children": [
       "IPY_MODEL_5f9c772cca3546498dbc5452c0e96d44",
       "IPY_MODEL_4f30cea94f7f4edb9070d14b50f5a52f",
       "IPY_MODEL_b6eb1b32445e4fdbb39858d1c1b44e4f"
      ],
      "layout": "IPY_MODEL_288a44fc60064d5e8e852283e8364303"
     }
    },
    "4f30cea94f7f4edb9070d14b50f5a52f": {
     "model_module": "@jupyter-widgets/controls",
     "model_module_version": "1.5.0",
     "model_name": "FloatProgressModel",
     "state": {
      "_dom_classes": [],
      "_model_module": "@jupyter-widgets/controls",
      "_model_module_version": "1.5.0",
      "_model_name": "FloatProgressModel",
      "_view_count": null,
      "_view_module": "@jupyter-widgets/controls",
      "_view_module_version": "1.5.0",
      "_view_name": "ProgressView",
      "bar_style": "success",
      "description": "",
      "description_tooltip": null,
      "layout": "IPY_MODEL_022ba98deefe43d88e6e37a7eef8adc2",
      "max": 17212,
      "min": 0,
      "orientation": "horizontal",
      "style": "IPY_MODEL_db6611ac3e2b4b6398a9cdbe1b802599",
      "value": 17212
     }
    },
    "5967cc9329f14143800b1fee3e9f7488": {
     "model_module": "@jupyter-widgets/controls",
     "model_module_version": "1.5.0",
     "model_name": "HTMLModel",
     "state": {
      "_dom_classes": [],
      "_model_module": "@jupyter-widgets/controls",
      "_model_module_version": "1.5.0",
      "_model_name": "HTMLModel",
      "_view_count": null,
      "_view_module": "@jupyter-widgets/controls",
      "_view_module_version": "1.5.0",
      "_view_name": "HTMLView",
      "description": "",
      "description_tooltip": null,
      "layout": "IPY_MODEL_72faafaf051a46298c368ff29c6b1914",
      "placeholder": "​",
      "style": "IPY_MODEL_b1c41b64ac68481da711618971091dbe",
      "value": " 4304/4304 [00:00&lt;00:00, 15185.52it/s]"
     }
    },
    "5f9c772cca3546498dbc5452c0e96d44": {
     "model_module": "@jupyter-widgets/controls",
     "model_module_version": "1.5.0",
     "model_name": "HTMLModel",
     "state": {
      "_dom_classes": [],
      "_model_module": "@jupyter-widgets/controls",
      "_model_module_version": "1.5.0",
      "_model_name": "HTMLModel",
      "_view_count": null,
      "_view_module": "@jupyter-widgets/controls",
      "_view_module_version": "1.5.0",
      "_view_name": "HTMLView",
      "description": "",
      "description_tooltip": null,
      "layout": "IPY_MODEL_c60964bf11394751b7a75a0532c8cc7b",
      "placeholder": "​",
      "style": "IPY_MODEL_c38fed483146459883cd8779dcf3d6a1",
      "value": "Pandas Apply: 100%"
     }
    },
    "6aeda3c17771415496cfa2b0e7bd7da4": {
     "model_module": "@jupyter-widgets/controls",
     "model_module_version": "1.5.0",
     "model_name": "DescriptionStyleModel",
     "state": {
      "_model_module": "@jupyter-widgets/controls",
      "_model_module_version": "1.5.0",
      "_model_name": "DescriptionStyleModel",
      "_view_count": null,
      "_view_module": "@jupyter-widgets/base",
      "_view_module_version": "1.2.0",
      "_view_name": "StyleView",
      "description_width": ""
     }
    },
    "6b711c732e504cf293339efd0e05e71f": {
     "model_module": "@jupyter-widgets/base",
     "model_module_version": "1.2.0",
     "model_name": "LayoutModel",
     "state": {
      "_model_module": "@jupyter-widgets/base",
      "_model_module_version": "1.2.0",
      "_model_name": "LayoutModel",
      "_view_count": null,
      "_view_module": "@jupyter-widgets/base",
      "_view_module_version": "1.2.0",
      "_view_name": "LayoutView",
      "align_content": null,
      "align_items": null,
      "align_self": null,
      "border": null,
      "bottom": null,
      "display": null,
      "flex": null,
      "flex_flow": null,
      "grid_area": null,
      "grid_auto_columns": null,
      "grid_auto_flow": null,
      "grid_auto_rows": null,
      "grid_column": null,
      "grid_gap": null,
      "grid_row": null,
      "grid_template_areas": null,
      "grid_template_columns": null,
      "grid_template_rows": null,
      "height": null,
      "justify_content": null,
      "justify_items": null,
      "left": null,
      "margin": null,
      "max_height": null,
      "max_width": null,
      "min_height": null,
      "min_width": null,
      "object_fit": null,
      "object_position": null,
      "order": null,
      "overflow": null,
      "overflow_x": null,
      "overflow_y": null,
      "padding": null,
      "right": null,
      "top": null,
      "visibility": null,
      "width": null
     }
    },
    "72faafaf051a46298c368ff29c6b1914": {
     "model_module": "@jupyter-widgets/base",
     "model_module_version": "1.2.0",
     "model_name": "LayoutModel",
     "state": {
      "_model_module": "@jupyter-widgets/base",
      "_model_module_version": "1.2.0",
      "_model_name": "LayoutModel",
      "_view_count": null,
      "_view_module": "@jupyter-widgets/base",
      "_view_module_version": "1.2.0",
      "_view_name": "LayoutView",
      "align_content": null,
      "align_items": null,
      "align_self": null,
      "border": null,
      "bottom": null,
      "display": null,
      "flex": null,
      "flex_flow": null,
      "grid_area": null,
      "grid_auto_columns": null,
      "grid_auto_flow": null,
      "grid_auto_rows": null,
      "grid_column": null,
      "grid_gap": null,
      "grid_row": null,
      "grid_template_areas": null,
      "grid_template_columns": null,
      "grid_template_rows": null,
      "height": null,
      "justify_content": null,
      "justify_items": null,
      "left": null,
      "margin": null,
      "max_height": null,
      "max_width": null,
      "min_height": null,
      "min_width": null,
      "object_fit": null,
      "object_position": null,
      "order": null,
      "overflow": null,
      "overflow_x": null,
      "overflow_y": null,
      "padding": null,
      "right": null,
      "top": null,
      "visibility": null,
      "width": null
     }
    },
    "76ca7fc221cc4ec88dc03e3c2080ec84": {
     "model_module": "@jupyter-widgets/controls",
     "model_module_version": "1.5.0",
     "model_name": "DescriptionStyleModel",
     "state": {
      "_model_module": "@jupyter-widgets/controls",
      "_model_module_version": "1.5.0",
      "_model_name": "DescriptionStyleModel",
      "_view_count": null,
      "_view_module": "@jupyter-widgets/base",
      "_view_module_version": "1.2.0",
      "_view_name": "StyleView",
      "description_width": ""
     }
    },
    "83cb1357c61b464b80088dc74bfc357b": {
     "model_module": "@jupyter-widgets/controls",
     "model_module_version": "1.5.0",
     "model_name": "HTMLModel",
     "state": {
      "_dom_classes": [],
      "_model_module": "@jupyter-widgets/controls",
      "_model_module_version": "1.5.0",
      "_model_name": "HTMLModel",
      "_view_count": null,
      "_view_module": "@jupyter-widgets/controls",
      "_view_module_version": "1.5.0",
      "_view_name": "HTMLView",
      "description": "",
      "description_tooltip": null,
      "layout": "IPY_MODEL_c2e835bb00f84bb9ade79509333edaa2",
      "placeholder": "​",
      "style": "IPY_MODEL_76ca7fc221cc4ec88dc03e3c2080ec84",
      "value": "Pandas Apply: 100%"
     }
    },
    "97af68c1e47f46868d2de6f77815bcbe": {
     "model_module": "@jupyter-widgets/base",
     "model_module_version": "1.2.0",
     "model_name": "LayoutModel",
     "state": {
      "_model_module": "@jupyter-widgets/base",
      "_model_module_version": "1.2.0",
      "_model_name": "LayoutModel",
      "_view_count": null,
      "_view_module": "@jupyter-widgets/base",
      "_view_module_version": "1.2.0",
      "_view_name": "LayoutView",
      "align_content": null,
      "align_items": null,
      "align_self": null,
      "border": null,
      "bottom": null,
      "display": null,
      "flex": null,
      "flex_flow": null,
      "grid_area": null,
      "grid_auto_columns": null,
      "grid_auto_flow": null,
      "grid_auto_rows": null,
      "grid_column": null,
      "grid_gap": null,
      "grid_row": null,
      "grid_template_areas": null,
      "grid_template_columns": null,
      "grid_template_rows": null,
      "height": null,
      "justify_content": null,
      "justify_items": null,
      "left": null,
      "margin": null,
      "max_height": null,
      "max_width": null,
      "min_height": null,
      "min_width": null,
      "object_fit": null,
      "object_position": null,
      "order": null,
      "overflow": null,
      "overflow_x": null,
      "overflow_y": null,
      "padding": null,
      "right": null,
      "top": null,
      "visibility": null,
      "width": null
     }
    },
    "b1c41b64ac68481da711618971091dbe": {
     "model_module": "@jupyter-widgets/controls",
     "model_module_version": "1.5.0",
     "model_name": "DescriptionStyleModel",
     "state": {
      "_model_module": "@jupyter-widgets/controls",
      "_model_module_version": "1.5.0",
      "_model_name": "DescriptionStyleModel",
      "_view_count": null,
      "_view_module": "@jupyter-widgets/base",
      "_view_module_version": "1.2.0",
      "_view_name": "StyleView",
      "description_width": ""
     }
    },
    "b6eb1b32445e4fdbb39858d1c1b44e4f": {
     "model_module": "@jupyter-widgets/controls",
     "model_module_version": "1.5.0",
     "model_name": "HTMLModel",
     "state": {
      "_dom_classes": [],
      "_model_module": "@jupyter-widgets/controls",
      "_model_module_version": "1.5.0",
      "_model_name": "HTMLModel",
      "_view_count": null,
      "_view_module": "@jupyter-widgets/controls",
      "_view_module_version": "1.5.0",
      "_view_name": "HTMLView",
      "description": "",
      "description_tooltip": null,
      "layout": "IPY_MODEL_6b711c732e504cf293339efd0e05e71f",
      "placeholder": "​",
      "style": "IPY_MODEL_6aeda3c17771415496cfa2b0e7bd7da4",
      "value": " 17212/17212 [00:00&lt;00:00, 41812.79it/s]"
     }
    },
    "c2e835bb00f84bb9ade79509333edaa2": {
     "model_module": "@jupyter-widgets/base",
     "model_module_version": "1.2.0",
     "model_name": "LayoutModel",
     "state": {
      "_model_module": "@jupyter-widgets/base",
      "_model_module_version": "1.2.0",
      "_model_name": "LayoutModel",
      "_view_count": null,
      "_view_module": "@jupyter-widgets/base",
      "_view_module_version": "1.2.0",
      "_view_name": "LayoutView",
      "align_content": null,
      "align_items": null,
      "align_self": null,
      "border": null,
      "bottom": null,
      "display": null,
      "flex": null,
      "flex_flow": null,
      "grid_area": null,
      "grid_auto_columns": null,
      "grid_auto_flow": null,
      "grid_auto_rows": null,
      "grid_column": null,
      "grid_gap": null,
      "grid_row": null,
      "grid_template_areas": null,
      "grid_template_columns": null,
      "grid_template_rows": null,
      "height": null,
      "justify_content": null,
      "justify_items": null,
      "left": null,
      "margin": null,
      "max_height": null,
      "max_width": null,
      "min_height": null,
      "min_width": null,
      "object_fit": null,
      "object_position": null,
      "order": null,
      "overflow": null,
      "overflow_x": null,
      "overflow_y": null,
      "padding": null,
      "right": null,
      "top": null,
      "visibility": null,
      "width": null
     }
    },
    "c38fed483146459883cd8779dcf3d6a1": {
     "model_module": "@jupyter-widgets/controls",
     "model_module_version": "1.5.0",
     "model_name": "DescriptionStyleModel",
     "state": {
      "_model_module": "@jupyter-widgets/controls",
      "_model_module_version": "1.5.0",
      "_model_name": "DescriptionStyleModel",
      "_view_count": null,
      "_view_module": "@jupyter-widgets/base",
      "_view_module_version": "1.2.0",
      "_view_name": "StyleView",
      "description_width": ""
     }
    },
    "c60964bf11394751b7a75a0532c8cc7b": {
     "model_module": "@jupyter-widgets/base",
     "model_module_version": "1.2.0",
     "model_name": "LayoutModel",
     "state": {
      "_model_module": "@jupyter-widgets/base",
      "_model_module_version": "1.2.0",
      "_model_name": "LayoutModel",
      "_view_count": null,
      "_view_module": "@jupyter-widgets/base",
      "_view_module_version": "1.2.0",
      "_view_name": "LayoutView",
      "align_content": null,
      "align_items": null,
      "align_self": null,
      "border": null,
      "bottom": null,
      "display": null,
      "flex": null,
      "flex_flow": null,
      "grid_area": null,
      "grid_auto_columns": null,
      "grid_auto_flow": null,
      "grid_auto_rows": null,
      "grid_column": null,
      "grid_gap": null,
      "grid_row": null,
      "grid_template_areas": null,
      "grid_template_columns": null,
      "grid_template_rows": null,
      "height": null,
      "justify_content": null,
      "justify_items": null,
      "left": null,
      "margin": null,
      "max_height": null,
      "max_width": null,
      "min_height": null,
      "min_width": null,
      "object_fit": null,
      "object_position": null,
      "order": null,
      "overflow": null,
      "overflow_x": null,
      "overflow_y": null,
      "padding": null,
      "right": null,
      "top": null,
      "visibility": null,
      "width": null
     }
    },
    "ce116f51a59a469aa9126e3263a13928": {
     "model_module": "@jupyter-widgets/base",
     "model_module_version": "1.2.0",
     "model_name": "LayoutModel",
     "state": {
      "_model_module": "@jupyter-widgets/base",
      "_model_module_version": "1.2.0",
      "_model_name": "LayoutModel",
      "_view_count": null,
      "_view_module": "@jupyter-widgets/base",
      "_view_module_version": "1.2.0",
      "_view_name": "LayoutView",
      "align_content": null,
      "align_items": null,
      "align_self": null,
      "border": null,
      "bottom": null,
      "display": null,
      "flex": null,
      "flex_flow": null,
      "grid_area": null,
      "grid_auto_columns": null,
      "grid_auto_flow": null,
      "grid_auto_rows": null,
      "grid_column": null,
      "grid_gap": null,
      "grid_row": null,
      "grid_template_areas": null,
      "grid_template_columns": null,
      "grid_template_rows": null,
      "height": null,
      "justify_content": null,
      "justify_items": null,
      "left": null,
      "margin": null,
      "max_height": null,
      "max_width": null,
      "min_height": null,
      "min_width": null,
      "object_fit": null,
      "object_position": null,
      "order": null,
      "overflow": null,
      "overflow_x": null,
      "overflow_y": null,
      "padding": null,
      "right": null,
      "top": null,
      "visibility": null,
      "width": null
     }
    },
    "db6611ac3e2b4b6398a9cdbe1b802599": {
     "model_module": "@jupyter-widgets/controls",
     "model_module_version": "1.5.0",
     "model_name": "ProgressStyleModel",
     "state": {
      "_model_module": "@jupyter-widgets/controls",
      "_model_module_version": "1.5.0",
      "_model_name": "ProgressStyleModel",
      "_view_count": null,
      "_view_module": "@jupyter-widgets/base",
      "_view_module_version": "1.2.0",
      "_view_name": "StyleView",
      "bar_color": null,
      "description_width": ""
     }
    },
    "ecf3a29ca751459c8dddd14df8c84f3d": {
     "model_module": "@jupyter-widgets/controls",
     "model_module_version": "1.5.0",
     "model_name": "ProgressStyleModel",
     "state": {
      "_model_module": "@jupyter-widgets/controls",
      "_model_module_version": "1.5.0",
      "_model_name": "ProgressStyleModel",
      "_view_count": null,
      "_view_module": "@jupyter-widgets/base",
      "_view_module_version": "1.2.0",
      "_view_name": "StyleView",
      "bar_color": null,
      "description_width": ""
     }
    }
   }
  }
 },
 "nbformat": 4,
 "nbformat_minor": 1
}
